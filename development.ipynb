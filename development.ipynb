{
 "cells": [
  {
   "cell_type": "code",
   "execution_count": 15,
   "metadata": {},
   "outputs": [],
   "source": [
    "poc_share = 0.34\n",
    "poc_support_for_poc_candidates = 0.7\n",
    "poc_support_for_white_candidates = 0.3\n",
    "white_support_for_white_candidates = 0.8\n",
    "white_support_for_poc_candidates = 0.2\n",
    "num_ballots = 100\n",
    "num_simulations = 10\n",
    "seats_open = 3\n",
    "num_poc_candidates = 3\n",
    "num_white_candidates = 3\n",
    "\n",
    "concentrations = [0.5]*4 #>>1 means very similar supports, <<1 means most support goes to one or two candidates\n",
    "concentration_list = [[0.5]*4, [2,0.5,0.5,0.5], [2,2,2,2], [2,2,0.5,0.5], [1]*4]"
   ]
  },
  {
   "cell_type": "code",
   "execution_count": 16,
   "metadata": {},
   "outputs": [
    {
     "name": "stdout",
     "output_type": "stream",
     "text": [
      ".................................................."
     ]
    }
   ],
   "source": [
    "#simulate\n",
    "import importlib\n",
    "importlib.reload(model_details)\n",
    "for concentrations in concentration_list:\n",
    "    poc_elected_bradley_terry_dirichlet = model_details.bradley_terry_dirichlet(\n",
    "      poc_share = poc_share,\n",
    "      poc_support_for_poc_candidates = poc_support_for_poc_candidates,\n",
    "      poc_support_for_white_candidates = poc_support_for_white_candidates,\n",
    "      white_support_for_white_candidates = white_support_for_white_candidates,\n",
    "      white_support_for_poc_candidates = white_support_for_poc_candidates,\n",
    "      num_ballots = num_ballots,\n",
    "      num_simulations = num_simulations,\n",
    "      seats_open = seats_open,\n",
    "      num_poc_candidates = num_poc_candidates,\n",
    "      num_white_candidates = num_white_candidates,\n",
    "      concentrations = concentrations\n",
    "    )\n",
    "  "
   ]
  },
  {
   "cell_type": "code",
   "execution_count": 17,
   "metadata": {},
   "outputs": [
    {
     "data": {
      "text/plain": [
       "[1, 1, 1, 1, 1, 1, 1, 1, 2, 2]"
      ]
     },
     "execution_count": 17,
     "metadata": {},
     "output_type": "execute_result"
    }
   ],
   "source": [
    "poc_elected_bradley_terry_dirichlet"
   ]
  },
  {
   "cell_type": "code",
   "execution_count": null,
   "metadata": {},
   "outputs": [],
   "source": []
  }
 ],
 "metadata": {
  "kernelspec": {
   "display_name": "Python 3",
   "language": "python",
   "name": "python3"
  },
  "language_info": {
   "codemirror_mode": {
    "name": "ipython",
    "version": 3
   },
   "file_extension": ".py",
   "mimetype": "text/x-python",
   "name": "python",
   "nbconvert_exporter": "python",
   "pygments_lexer": "ipython3",
   "version": "3.7.3"
  }
 },
 "nbformat": 4,
 "nbformat_minor": 2
}
